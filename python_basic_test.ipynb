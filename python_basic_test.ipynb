{
  "nbformat": 4,
  "nbformat_minor": 0,
  "metadata": {
    "colab": {
      "provenance": []
    },
    "kernelspec": {
      "name": "python3",
      "display_name": "Python 3"
    },
    "language_info": {
      "name": "python"
    }
  },
  "cells": [
    {
      "cell_type": "markdown",
      "source": [
        "# Python Basics Questions"
      ],
      "metadata": {
        "id": "1S_vsZ6x7u_Y"
      }
    },
    {
      "cell_type": "markdown",
      "source": [
        "# 1.What is Python, and why is it popular?\n",
        "ans- 1.\n",
        "python is a programming language with 137,000 libraries .it is a high level language. simply understandable.\n",
        "it is a general purpose language\n",
        "it is popular for its simplicity.\n",
        "\n",
        "it used in frontend,backend,web develop ment , data-analysis, machine learning and various fields."
      ],
      "metadata": {
        "id": "j7ztJGDf3cqa"
      }
    },
    {
      "cell_type": "markdown",
      "source": [
        "# 2. What is an interpreter in Python?\n",
        "ans-2.the interpreter is the component that** executes** the code.it read the code and interprete to the machine in its language.**Cpython** is the widely used  and primary interpreter of python programming language."
      ],
      "metadata": {
        "id": "bh2JNxoO4_dL"
      }
    },
    {
      "cell_type": "markdown",
      "source": [
        "# 3.What are pre-defined keywords in Python?\n",
        "\n",
        "ans:3 predefined keywords are\n",
        " words in python which hold a special meaning and specific purpose .\n",
        " ex- true,false,del\n",
        " they are mostly highlighted and can be recognized easily."
      ],
      "metadata": {
        "id": "mbReA_zt7HWW"
      }
    },
    {
      "cell_type": "markdown",
      "source": [
        "#4. Can keywords be used as variable names\n",
        "ans-4. no,keyword can not be used as varisble name .\n",
        "keyword has special  meanings and ans have specific purposes\n",
        "it will throw an error if we use keywords in this way."
      ],
      "metadata": {
        "id": "Ue9yEjK27-Jz"
      }
    },
    {
      "cell_type": "markdown",
      "source": [
        "#5. What is mutability in Python?\n",
        "ans:5. mutablity is the ability of being changed .\n",
        "those objects or containers whose state or value can be changed,after they are created, are called as mutable objects .\n",
        "example: list,dictionaries etc.\n",
        "\n",
        "```\n",
        "\n",
        "```\n",
        "\n",
        "\n"
      ],
      "metadata": {
        "id": "fBYUfoB18zMO"
      }
    },
    {
      "cell_type": "code",
      "source": [
        "'''list_container=[1,2,3.5,True,\"ajay\"]\n",
        "list_container[2]=5\n",
        "print(list_container)'''\n",
        "#example of mutablity, here list that contain 3.5 on postive index [2] changed into 5 ."
      ],
      "metadata": {
        "colab": {
          "base_uri": "https://localhost:8080/"
        },
        "id": "DlA6eDM8EqC1",
        "outputId": "507412d2-d97a-4019-f439-70cae4a73103"
      },
      "execution_count": null,
      "outputs": [
        {
          "output_type": "stream",
          "name": "stdout",
          "text": [
            "[1, 2, 5, True, 'ajay']\n"
          ]
        }
      ]
    },
    {
      "cell_type": "markdown",
      "source": [
        "#6. Why are lists mutable, but tuples are immutable?\n",
        "ans:6. i did'nt read about tuple.it is not in the basics ."
      ],
      "metadata": {
        "id": "5iNjImEY98GB"
      }
    },
    {
      "cell_type": "markdown",
      "source": [
        "#7. What is the difference between “==” and “is” operators in Python?\n",
        "ans:7.== means equal, it is an comparison operator.checks the values of operands are equal or not\n",
        "\n",
        "\n",
        "\n",
        "\n",
        "\n"
      ],
      "metadata": {
        "id": "oiCX73eZ-mM-"
      }
    },
    {
      "cell_type": "code",
      "source": [
        "#example of \"==\"\n",
        "'''a=5\n",
        "b=6\n",
        "a==b'\n",
        "print(a==b)''\n",
        "#here answer would be false"
      ],
      "metadata": {
        "id": "CwwX9vRuK0jh"
      },
      "execution_count": null,
      "outputs": []
    },
    {
      "cell_type": "markdown",
      "source": [
        "\n",
        "'is' is a an identity opertor,which compares the location of two objects.\n",
        "it gives value as 'true' or\n",
        "'false'"
      ],
      "metadata": {
        "id": "oaOZ7wsNA503"
      }
    },
    {
      "cell_type": "code",
      "source": [
        "\n",
        "#example of \"is\"\n",
        "#a=5\n",
        "#b=6\n",
        "#a is b\n",
        "#print (a is b)\n",
        "#output:false"
      ],
      "metadata": {
        "colab": {
          "base_uri": "https://localhost:8080/"
        },
        "id": "tRhmboDQG_9z",
        "outputId": "8ee65da9-acdc-481d-a8b4-6dc459201806"
      },
      "execution_count": null,
      "outputs": [
        {
          "output_type": "execute_result",
          "data": {
            "text/plain": [
              "False"
            ]
          },
          "metadata": {},
          "execution_count": 5
        }
      ]
    },
    {
      "cell_type": "markdown",
      "source": [],
      "metadata": {
        "id": "izqFrSggG4rQ"
      }
    },
    {
      "cell_type": "markdown",
      "source": [
        "#8.What are logical operators in Python?\n",
        "ans:8. when we combine statements with 'and','or' & 'not' .\n",
        "and: Returns True if both statements are true.\n",
        "\n",
        "or: Returns True if one of the statements is true.\n",
        "\n",
        "not: Reverses the result, returns False if the result is true"
      ],
      "metadata": {
        "id": "OAUSN_8nHctf"
      }
    },
    {
      "cell_type": "code",
      "source": [
        "'''\n",
        "a = True\n",
        "b = False\n",
        "result = a and b\n",
        "\n",
        "print(result)'''\n",
        "# Output: False\n"
      ],
      "metadata": {
        "colab": {
          "base_uri": "https://localhost:8080/",
          "height": 35
        },
        "id": "HYZAB0uqIK_9",
        "outputId": "935bf131-50e3-4276-8c40-64736a0203d7"
      },
      "execution_count": null,
      "outputs": [
        {
          "output_type": "execute_result",
          "data": {
            "text/plain": [
              "'a = True\\nb = False\\nresult = a and b  \\n\\nprint(result)'"
            ],
            "application/vnd.google.colaboratory.intrinsic+json": {
              "type": "string"
            }
          },
          "metadata": {},
          "execution_count": 11
        }
      ]
    },
    {
      "cell_type": "code",
      "source": [
        "'''\n",
        "a = True\n",
        "b = False\n",
        "result = a or b\n",
        "print(result)'''\n",
        "# Output: True\n"
      ],
      "metadata": {
        "colab": {
          "base_uri": "https://localhost:8080/",
          "height": 35
        },
        "id": "zd7-J3ZQIn4x",
        "outputId": "9ce65f2e-307a-46e1-e199-10655cd42397"
      },
      "execution_count": null,
      "outputs": [
        {
          "output_type": "execute_result",
          "data": {
            "text/plain": [
              "'a = True\\nb = False\\nresult = a or b\\nprint(result)'"
            ],
            "application/vnd.google.colaboratory.intrinsic+json": {
              "type": "string"
            }
          },
          "metadata": {},
          "execution_count": 12
        }
      ]
    },
    {
      "cell_type": "markdown",
      "source": [
        "# 9. What is type casting in Python?\n",
        "ans:9.when we change data-type manually in python ,it is called explicit type conversion and it is also called type casting.\n",
        " we can convert data type using inbuilt function such as str,int,boolean etc.\n",
        "it is used to avoid mismatch between the data type  "
      ],
      "metadata": {
        "id": "FIs49abgJk6P"
      }
    },
    {
      "cell_type": "code",
      "source": [
        "'''\n",
        "a=1\n",
        "b=\"3\"\n",
        "a+b'''#it will throw an error because we can't add different data types\n",
        "#int(b),it will make \"3\" an integer)\n",
        "'''\n",
        "a+b\n",
        "'''\n",
        "# output 5\n"
      ],
      "metadata": {
        "id": "ToiO8jj9LhQ3"
      },
      "execution_count": null,
      "outputs": []
    },
    {
      "cell_type": "markdown",
      "source": [
        "#10.What is the difference between implicit and explicit type casting?\n",
        "ans:10. implicit typecasting:when python understand the  data types automatically.          \n",
        "\n",
        "explicit typecasting : .when we change data-type manually in python .\n",
        "we can convert data type using inbuilt function such as str,int,boolean etc.\n",
        "\n",
        "\n",
        "\n"
      ],
      "metadata": {
        "id": "ilsqw5xTMVZ4"
      }
    },
    {
      "cell_type": "code",
      "source": [
        "#implicit type casting:\n",
        "'''\n",
        "a=5(int)\n",
        "b=2.5(float)\n",
        "a+b\n",
        "'''\n",
        "#output =7.5(float)\n",
        "#python automatically added int and float because both are numeraical values , it is called implicit typecasting .\n",
        "\n",
        "#explicit type casting\n",
        "'''\n",
        "a=5        (int)\n",
        "b=\"10\"      (str)\n",
        "c=str(a)     #we change (b) into 'int' manually\n",
        "a+c'''\n",
        "#output '15'(int)\n",
        "\n"
      ],
      "metadata": {
        "id": "r8dfZyCGNkRy"
      },
      "execution_count": null,
      "outputs": []
    },
    {
      "cell_type": "markdown",
      "source": [
        "# 11. What is the purpose of conditional statements in Python?\n",
        "ans:11. it helps us to code decisions  based on some precondition  "
      ],
      "metadata": {
        "id": "-u5pKXptOBcE"
      }
    },
    {
      "cell_type": "markdown",
      "source": [
        "# 12. How does the elif statement work?\n",
        "ans:12.  it is used for multiple conditions.\n",
        "as soon as one of the conditions is found to be true, the corresponding block of code is executed, and the rest are skipped. If none of the conditions are met, the code in the else block is executed."
      ],
      "metadata": {
        "id": "4q3We4XcRT_L"
      }
    },
    {
      "cell_type": "code",
      "source": [
        "#temperature = 25  # (Temperature in degrees Celsius)\n",
        "\n",
        "'''\n",
        "if temperature > 30:\n",
        "    print(\"It's hot! Wear light clothes.\")\n",
        "elif 20 <= temperature <= 30:\n",
        "    print(\"It's warm. Wear comfortable clothes.\")\n",
        "elif 10 <= temperature < 20:\n",
        "    print(\"It's cool. Wear a jacket.\")\n",
        "else:\n",
        "    print(\"It's cold! Wear warm clothes.\")'''\n"
      ],
      "metadata": {
        "id": "ChtLBrapS8CB"
      },
      "execution_count": null,
      "outputs": []
    },
    {
      "cell_type": "markdown",
      "source": [
        "# 13.What is the difference between for and while loops?\n",
        "ans:13. for loop:-  when the number of iteration is known .it iterate over a sequence of elements e.g; strings ,list\n",
        "while loop:- Used when the number of iterations is not known in advance and depends on a condition.\n",
        "\n",
        "Syntax: Continues looping as long as a specified condition is True"
      ],
      "metadata": {
        "id": "2m1pPgGdShMA"
      }
    },
    {
      "cell_type": "code",
      "source": [
        "# \"for loop\" performs a fixed number of iterations.\n",
        "'''\n",
        "for i in range(5):\n",
        "    print(i)\n",
        "    i+=1\n",
        "    '''\n",
        "    #output\n",
        "    '''\n",
        "    1\n",
        "    2\n",
        "    3\n",
        "    4\n",
        "    5\n",
        "    '''\n",
        " #while loop  continues until specifid condition is true\n",
        " '''\n",
        "i=0\n",
        "while i<5:\n",
        "    print(i)\n",
        "    i+=1\n",
        "    '''\n",
        "    #output\n",
        "    '''\n",
        "    1\n",
        "    2\n",
        "    3\n",
        "    4\n",
        "    5\n",
        "    '''\n"
      ],
      "metadata": {
        "id": "5OvdhPdsRLp4"
      },
      "execution_count": null,
      "outputs": []
    },
    {
      "cell_type": "markdown",
      "source": [
        "# 14. Describe a scenario where a while loop is more suitable than a for loop?\n",
        "ans:14- when we use 'input'\n",
        "\n",
        "'while loop' is more suitable.\n",
        "when we take data from user manually"
      ],
      "metadata": {
        "id": "Wv-MmxIgUUTq"
      }
    },
    {
      "cell_type": "code",
      "source": [
        "# While loop for user input validation\n",
        "'''\n",
        "while True:\n",
        "    password = input(\"Enter your password: \")\n",
        "\n",
        "    # Password validation criteria\n",
        "    if len(password) >= 8 and any(char.isdigit() for char in password):\n",
        "        print(\"Password is valid.\")\n",
        "        break\n",
        "    else:\n",
        "        print(\"Password must be at least 8 characters long and contain at least one number. Please try again.\")\n",
        "        '''\n"
      ],
      "metadata": {
        "id": "cjt5g6CmP6Bd"
      },
      "execution_count": null,
      "outputs": []
    },
    {
      "cell_type": "markdown",
      "source": [
        "for loop is typically used when you know the exact number of iterations, such as iterating over a range or a list."
      ],
      "metadata": {
        "id": "__9O23rLQKf-"
      }
    },
    {
      "cell_type": "markdown",
      "source": [
        "# Practical Questions"
      ],
      "metadata": {
        "id": "go3NJe6J8BSt"
      }
    },
    {
      "cell_type": "markdown",
      "source": [
        "que 1:\n",
        "Write a Python program to print \"Hello, World!_"
      ],
      "metadata": {
        "id": "jm3vPObn8FBY"
      }
    },
    {
      "cell_type": "code",
      "source": [
        "\n",
        "print(\"hello world\")\n"
      ],
      "metadata": {
        "id": "HsZAVs0UWhJK",
        "colab": {
          "base_uri": "https://localhost:8080/"
        },
        "outputId": "8ffef00d-c92b-41d4-da46-c63c5a37d21e"
      },
      "execution_count": null,
      "outputs": [
        {
          "output_type": "stream",
          "name": "stdout",
          "text": [
            "hello world\n"
          ]
        }
      ]
    },
    {
      "cell_type": "markdown",
      "source": [
        "***que:2. Write a Python program that displays your name and age***"
      ],
      "metadata": {
        "id": "vJocZviy8Wd1"
      }
    },
    {
      "cell_type": "code",
      "source": [
        "\n",
        "name= input(\"my name is\", )\n",
        "age=input(\"my age is\", )\n",
        "print(name,age)\n",
        "\n"
      ],
      "metadata": {
        "colab": {
          "base_uri": "https://localhost:8080/"
        },
        "id": "e1qRWpWPZ6km",
        "outputId": "c31c3751-8574-4f6b-d0e2-098ecf3ac7c4"
      },
      "execution_count": null,
      "outputs": [
        {
          "output_type": "stream",
          "name": "stdout",
          "text": [
            "my name is anshika\n",
            "my age is 21\n",
            " anshika  21\n"
          ]
        }
      ]
    },
    {
      "cell_type": "markdown",
      "source": [
        "que:3\n",
        "*Write code to print all the pre-defined keywords in Python using the keyword library*"
      ],
      "metadata": {
        "id": "SjUhQ96dWhg5"
      }
    },
    {
      "cell_type": "code",
      "source": [
        "\n",
        "import keyword\n",
        "\n",
        "# Print all the keywords in Python\n",
        "print(\"The predefined keywords in Python are:\")\n",
        "print(keyword.kwlist)\n"
      ],
      "metadata": {
        "colab": {
          "base_uri": "https://localhost:8080/"
        },
        "id": "ESAtwF0GdhwB",
        "outputId": "b007fd4b-4c30-4fad-b212-03b843ea03f5"
      },
      "execution_count": null,
      "outputs": [
        {
          "output_type": "stream",
          "name": "stdout",
          "text": [
            "The predefined keywords in Python are:\n",
            "['False', 'None', 'True', 'and', 'as', 'assert', 'async', 'await', 'break', 'class', 'continue', 'def', 'del', 'elif', 'else', 'except', 'finally', 'for', 'from', 'global', 'if', 'import', 'in', 'is', 'lambda', 'nonlocal', 'not', 'or', 'pass', 'raise', 'return', 'try', 'while', 'with', 'yield']\n"
          ]
        }
      ]
    },
    {
      "cell_type": "markdown",
      "source": [
        "que:4\n",
        "Write a program that checks if a given word is a Python keyword"
      ],
      "metadata": {
        "id": "3TX8hjUA83XZ"
      }
    },
    {
      "cell_type": "code",
      "source": [
        "\n",
        "word = \"for\"\n",
        "if is_keyword(word):\n",
        "  print(f\"'{word}' is a Python keyword.\")\n",
        "else:\n",
        "  print(f\"'{word}' is not a Python keyword.\")'''\n",
        "\n",
        "\n",
        ""
      ],
      "metadata": {
        "colab": {
          "base_uri": "https://localhost:8080/"
        },
        "id": "syZf1GX7eOGo",
        "outputId": "6dc5855a-f5db-46af-d9c1-11bd07cb6116"
      },
      "execution_count": null,
      "outputs": [
        {
          "output_type": "stream",
          "name": "stdout",
          "text": [
            "'for' is a Python keyword.\n"
          ]
        }
      ]
    },
    {
      "cell_type": "markdown",
      "source": [
        "que:5\n",
        " Create a list and tuple in Python, and demonstrate how attempting to change an element works differently\n",
        "for each"
      ],
      "metadata": {
        "id": "OImmueuM9HDE"
      }
    },
    {
      "cell_type": "code",
      "source": [
        "'''\n",
        "i didnt read about this yet\n",
        "'''\n"
      ],
      "metadata": {
        "id": "L4es5iIjerlD"
      },
      "execution_count": null,
      "outputs": []
    },
    {
      "cell_type": "markdown",
      "source": [
        "que:6\n",
        "* Write a function to demonstrate the behavior of mutable and immutable arguments*"
      ],
      "metadata": {
        "id": "tUEoWoji9Wpe"
      }
    },
    {
      "cell_type": "code",
      "source": [
        "'''\n",
        "i didn't read about this\n",
        "'''"
      ],
      "metadata": {
        "id": "4_olOrX5e1Yy"
      },
      "execution_count": null,
      "outputs": []
    },
    {
      "cell_type": "markdown",
      "source": [
        "que:7\n",
        "*Write a function to demonstrate the behavior of mutable and immutable arguments*"
      ],
      "metadata": {
        "id": "dS3DoP7j9tyA"
      }
    },
    {
      "cell_type": "code",
      "source": [
        "'''\n",
        "i didn't read about this\n",
        "'''"
      ],
      "metadata": {
        "id": "XQKYZRx49pUP"
      },
      "execution_count": null,
      "outputs": []
    },
    {
      "cell_type": "markdown",
      "source": [
        "que:8\n",
        "* Write a program to demonstrate the use of logical operators*"
      ],
      "metadata": {
        "id": "I-34utjPAKRr"
      }
    },
    {
      "cell_type": "code",
      "source": [
        "\n",
        "def logical_operators_demo(a, b):\n",
        "    print(\"Logical Operators Demo:\")\n",
        "\n",
        "    # AND operator\n",
        "    print(\"a and b is\", a and b)\n",
        "\n",
        "    # OR operator\n",
        "    print(\"a or b is\", a or b)\n",
        "\n",
        "    # NOT operator\n",
        "    print(\"not a is\", not a)\n",
        "    print(\"not b is\", not b)\n",
        "\n",
        "# Test the function with sample values\n",
        "a = True\n",
        "b = False\n",
        "logical_operators_demo(a, b)\n",
        "\n",
        "\n"
      ],
      "metadata": {
        "colab": {
          "base_uri": "https://localhost:8080/"
        },
        "id": "DLOAJcMwfIti",
        "outputId": "d5f8d63f-f319-44fc-cb6f-039573909ad0"
      },
      "execution_count": null,
      "outputs": [
        {
          "output_type": "stream",
          "name": "stdout",
          "text": [
            "Logical Operators Demo:\n",
            "a and b is False\n",
            "a or b is True\n",
            "not a is False\n",
            "not b is True\n"
          ]
        }
      ]
    },
    {
      "cell_type": "markdown",
      "source": [
        "que:9\n",
        "* Write a Python program to convert user input from string to integer, float, and boolean types*"
      ],
      "metadata": {
        "id": "SdEFxAfuAVKw"
      }
    },
    {
      "cell_type": "code",
      "source": [
        "\n",
        "roll_number=\"30\"\n",
        "#\"30\" is a string\n",
        "roll_number=int(roll_number)\n",
        "print(roll_number)\n",
        "roll_number=float(roll_number)\n",
        "print(roll_number)\n",
        "roll_number=bool(roll_number)\n",
        "print(roll_number)'''\n",
        "\n"
      ],
      "metadata": {
        "colab": {
          "base_uri": "https://localhost:8080/"
        },
        "id": "FL89P9YYgGKL",
        "outputId": "13951b6e-d7d2-4554-b3d2-3273ef4470bc"
      },
      "execution_count": null,
      "outputs": [
        {
          "output_type": "stream",
          "name": "stdout",
          "text": [
            "30\n",
            "30.0\n",
            "True\n"
          ]
        }
      ]
    },
    {
      "cell_type": "markdown",
      "source": [
        "que:10\n",
        " Write code to demonstrate type casting with list elements0"
      ],
      "metadata": {
        "id": "7B7DWwvQBSjm"
      }
    },
    {
      "cell_type": "code",
      "source": [
        " Original list with numbers as strings\n",
        "original_list = [\"1\", \"2\", \"3\", \"4\", \"5\"]\n",
        "\n",
        "# Initialize empty lists for storing converted elements\n",
        "int_list = []\n",
        "float_list = []\n",
        "\n",
        "# Iterate through the original list and convert elements\n",
        "for item in original_list:\n",
        "    int_list.append(int(item))    # Convert to integer\n",
        "    float_list.append(float(item)) # Convert to float\n",
        "\n",
        "# Print the original and converted lists\n",
        "print(\"Original list:\", original_list)\n",
        "print(\"Integer list:\", int_list)\n",
        "print(\"Float list:\", float_list)\n",
        "\n",
        "\n"
      ],
      "metadata": {
        "colab": {
          "base_uri": "https://localhost:8080/"
        },
        "id": "YJhS0rG3Ahfq",
        "outputId": "80a4ff70-9799-441a-8489-63bd0795a4a8"
      },
      "execution_count": 24,
      "outputs": [
        {
          "output_type": "stream",
          "name": "stdout",
          "text": [
            "Original list: ['1', '2', '3', '4', '5']\n",
            "Integer list: [1, 2, 3, 4, 5]\n",
            "Float list: [1.0, 2.0, 3.0, 4.0, 5.0]\n"
          ]
        }
      ]
    },
    {
      "cell_type": "markdown",
      "source": [
        "que:11\n",
        " Write a program that checks if a number is positive, negative, or zero"
      ],
      "metadata": {
        "id": "tdJLT7rbBZaz"
      }
    },
    {
      "cell_type": "code",
      "source": [
        "def check_number(num):\n",
        "    if num > 0:\n",
        "        return \"The number is positive.\"\n",
        "    elif num < 0:\n",
        "        return \"The number is negative.\"\n",
        "    else:\n",
        "        return \"The number is zero.\"\n",
        "\n",
        "# Example usage\n",
        "number = float(input(\"Enter a number: \"))\n",
        "result = check_number(number)\n",
        "print(result)\n",
        "\n",
        "\n"
      ],
      "metadata": {
        "id": "YetdrXv0g_tA",
        "colab": {
          "base_uri": "https://localhost:8080/"
        },
        "outputId": "b297ab67-2594-4638-d0f6-7d00a38380a1"
      },
      "execution_count": 15,
      "outputs": [
        {
          "output_type": "stream",
          "name": "stdout",
          "text": [
            "Enter a number: 12\n",
            "The number is positive.\n"
          ]
        }
      ]
    },
    {
      "cell_type": "markdown",
      "source": [
        "que:12\n",
        "Write a for loop to print numbers from 1 to 100"
      ],
      "metadata": {
        "id": "-w1tb4oWBhO8"
      }
    },
    {
      "cell_type": "code",
      "source": [
        "\n",
        "i=1\n",
        "for i in range(1,11):\n",
        "  print(i)\n",
        "  i=+1\n",
        "\n",
        "\n"
      ],
      "metadata": {
        "colab": {
          "base_uri": "https://localhost:8080/"
        },
        "id": "Cwvnk7Kxx3RQ",
        "outputId": "a676c081-8bd9-412e-fea4-2e735c8e9d77"
      },
      "execution_count": 18,
      "outputs": [
        {
          "output_type": "stream",
          "name": "stdout",
          "text": [
            "1\n",
            "2\n",
            "3\n",
            "4\n",
            "5\n",
            "6\n",
            "7\n",
            "8\n",
            "9\n",
            "10\n"
          ]
        }
      ]
    },
    {
      "cell_type": "markdown",
      "source": [
        "que:13\n",
        " Write a Python program to find the sum of all even numbers between 1 and 50"
      ],
      "metadata": {
        "id": "ccaVo1u7BoZZ"
      }
    },
    {
      "cell_type": "code",
      "source": [
        "\n",
        "\n",
        "sum_of_evens = 0\n",
        "for number in range(1, 51):\n",
        "\n",
        "    if number % 2 == 0:\n",
        "\n",
        "        sum_of_evens += number\n",
        "\n",
        "\n",
        "print(\"The sum of all even numbers between 1 and 500 is:\", sum_of_evens)\n",
        "\n",
        "output=The sum of all even numbers between 1 and 500 is: 650\n",
        ""
      ],
      "metadata": {
        "colab": {
          "base_uri": "https://localhost:8080/"
        },
        "id": "Ihs-ZmzByjr6",
        "outputId": "fb384cc5-bfba-4d2b-df6d-ffa08a09e1de"
      },
      "execution_count": 19,
      "outputs": [
        {
          "output_type": "stream",
          "name": "stdout",
          "text": [
            "The sum of all even numbers between 1 and 500 is: 650\n"
          ]
        }
      ]
    },
    {
      "cell_type": "markdown",
      "source": [
        "que:14\n",
        " Write a program to reverse a string using a while loop"
      ],
      "metadata": {
        "id": "JjbZNn-OBu0X"
      }
    },
    {
      "cell_type": "code",
      "source": [
        "\n",
        "def reverse_string(s):\n",
        "    reversed_string = \"\"\n",
        "    index = len(s) - 1\n",
        "\n",
        "    while index >= 0:\n",
        "        reversed_string += s[index]\n",
        "        index -= 1\n",
        "\n",
        "    return reversed_string\n",
        "\n",
        "# Example usage\n",
        "input_string = \"Hello, World!\"\n",
        "reversed_result = reverse_string(input_string)\n",
        "print(\"Original String:\", input_string)\n",
        "print(\"Reversed String:\", reversed_result)\n",
        "\n",
        "\n",
        "\n"
      ],
      "metadata": {
        "id": "yuiC6Ymt46bf"
      },
      "execution_count": null,
      "outputs": []
    },
    {
      "cell_type": "markdown",
      "source": [
        "que:15\n",
        " Write a Python program to calculate the factorial of a number provided by the user using a while loop."
      ],
      "metadata": {
        "id": "XNA1fN_nB1H2"
      }
    },
    {
      "cell_type": "code",
      "source": [
        "\n",
        "\n",
        "def calculate_factorial(n):\n",
        "    factorial = 1\n",
        "    while n > 0:\n",
        "        factorial *= n\n",
        "        n -= 1\n",
        "    return factorial\n",
        "number = int(input(\"Enter a number to calculate its factorial: \"))\n",
        "\n",
        "\n",
        "if number < 0:\n",
        "    print(\"Factorial is not defined for negative numbers.\")\n",
        "else:\n",
        "    result = calculate_factorial(number)\n",
        "    print(f\"The factorial of {number} is {result}\")\n",
        "\n",
        "\n"
      ],
      "metadata": {
        "colab": {
          "base_uri": "https://localhost:8080/"
        },
        "id": "p6v8fvvv5b75",
        "outputId": "46319440-9b88-439c-a34c-fdaa95cbbe3b"
      },
      "execution_count": 21,
      "outputs": [
        {
          "output_type": "stream",
          "name": "stdout",
          "text": [
            "Enter a number to calculate its factorial: 10\n",
            "The factorial of 10 is 3628800\n"
          ]
        }
      ]
    }
  ]
}